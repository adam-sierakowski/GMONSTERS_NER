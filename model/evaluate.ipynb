{
 "cells": [
  {
   "cell_type": "code",
   "execution_count": 3,
   "id": "f50a37ba-9b39-4bb3-83a4-52f5ccccdd5b",
   "metadata": {},
   "outputs": [
    {
     "name": "stdout",
     "output_type": "stream",
     "text": [
      "Precision: 0.8641304347826086\n",
      "Recall: 0.9190751445086706\n",
      "F1-score: 0.8907563025210085\n"
     ]
    }
   ],
   "source": [
    "import spacy\n",
    "from spacy.scorer import Scorer\n",
    "from spacy.training.example import Example\n",
    "import json\n",
    "\n",
    "def load_spacy_data(path):\n",
    "    with open(path, \"r\", encoding=\"utf-8\") as f:\n",
    "        data = json.load(f)\n",
    "    new_data = []\n",
    "    for entry in data:\n",
    "        entities = [tuple(ent) for ent in entry[1][\"entities\"]]\n",
    "        new_data.append((entry[0], {\"entities\": entities}))\n",
    "    return new_data\n",
    "\n",
    "nlp = spacy.load(\"gmonsters_ner_0.1\")\n",
    "test_data = load_spacy_data(\"../corpus/themodders_forum_monster_sentences_big/monster_big_no_overlap_test.json\")\n",
    "\n",
    "examples = []\n",
    "for text, ann in test_data:\n",
    "    doc = nlp(text)\n",
    "    examples.append(Example.from_dict(doc, ann))\n",
    "\n",
    "scorer = Scorer()\n",
    "scores = scorer.score(examples)\n",
    "print(\"Precision:\", scores[\"ents_p\"])\n",
    "print(\"Recall:\", scores[\"ents_r\"])\n",
    "print(\"F1-score:\", scores[\"ents_f\"])"
   ]
  },
  {
   "cell_type": "code",
   "execution_count": 4,
   "id": "91d63018-4768-48ce-9c16-69986b17f478",
   "metadata": {},
   "outputs": [
    {
     "name": "stdout",
     "output_type": "stream",
     "text": [
      "Text: Skóra ścierwojada wojownika\n",
      "Entities [('ścierwojada wojownika', 'MONSTER')]\n",
      "Text: Uciekał jakby goniło go stado baranów\n",
      "Entities [('baranów', 'MONSTER')]\n",
      "Text: Trzeba zabić paru orków szamanów\n",
      "Entities [('orków szamanów', 'MONSTER')]\n",
      "Text: Trzeba zabić paru orków-szamanów\n",
      "Entities [('orków', 'MONSTER'), ('szamanów', 'MONSTER')]\n",
      "Text: Z chrząszcza potrawka\n",
      "Entities [('chrząszcza', 'MONSTER')]\n",
      "Text: Z chrzaszcza potrawka\n",
      "Entities [('chrzaszcza', 'MONSTER')]\n",
      "Text: Sceirwojady\n",
      "Entities []\n",
      "Text: Ścierwojady – tak nazywamy te wielkie ptaszyska – należy atakować jeden po drugim.\n",
      "Entities [('Ścierwojady', 'MONSTER')]\n",
      "Text: scierwojady – tak nazywamy te wielkie ptaszyska – należy atakować jeden po drugim.\n",
      "Entities []\n",
      "Text: Scierwojady – tak nazywamy te wielkie ptaszyska – należy atakować jeden po drugim.\n",
      "Entities []\n",
      "Text: Ściewrojady – tak nazywamy te wielkie ptaszyska – należy atakować jeden po drugim.\n",
      "Entities []\n",
      "Text: Skóra z orkowego psa\n",
      "Entities [('orkowego psa', 'MONSTER')]\n",
      "Text: Skóra z orkoewgo psa\n",
      "Entities [('psa', 'MONSTER')]\n",
      "Text: Gonił mnie jakiś straszny pies\n",
      "Entities []\n"
     ]
    }
   ],
   "source": [
    "texts = [\n",
    "    \"Skóra ścierwojada wojownika\",  # novel monster\n",
    "    \"Uciekał jakby goniło go stado baranów\",  # exact wordform 'baranów' not present in the dataset\n",
    "    \"Trzeba zabić paru orków szamanów\",\n",
    "    \"Trzeba zabić paru orków-szamanów\",\n",
    "    \"Z chrząszcza potrawka\",\n",
    "    \"Z chrzaszcza potrawka\",  # no diacritics\n",
    "    \"Sceirwojady\",\n",
    "    \"Ścierwojady – tak nazywamy te wielkie ptaszyska – należy atakować jeden po drugim.\",\n",
    "    \"scierwojady – tak nazywamy te wielkie ptaszyska – należy atakować jeden po drugim.\", # no diacritics\n",
    "    \"Scierwojady – tak nazywamy te wielkie ptaszyska – należy atakować jeden po drugim.\", # no diacritics\n",
    "    \"Ściewrojady – tak nazywamy te wielkie ptaszyska – należy atakować jeden po drugim.\", # typo\n",
    "    \"Skóra z orkowego psa\",\n",
    "    \"Skóra z orkoewgo psa\",\n",
    "    \"Gonił mnie jakiś straszny pies\"\n",
    "]\n",
    "\n",
    "for text in texts:\n",
    "    doc = nlp(text)\n",
    "    print(f'Text: {text}')\n",
    "    print('Entities', [(ent.text, ent.label_) for ent in doc.ents])"
   ]
  }
 ],
 "metadata": {
  "kernelspec": {
   "display_name": "Python 3 (ipykernel)",
   "language": "python",
   "name": "python3"
  },
  "language_info": {
   "codemirror_mode": {
    "name": "ipython",
    "version": 3
   },
   "file_extension": ".py",
   "mimetype": "text/x-python",
   "name": "python",
   "nbconvert_exporter": "python",
   "pygments_lexer": "ipython3",
   "version": "3.12.9"
  }
 },
 "nbformat": 4,
 "nbformat_minor": 5
}
