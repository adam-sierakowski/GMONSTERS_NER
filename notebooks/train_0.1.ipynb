{
 "cells": [
  {
   "cell_type": "code",
   "execution_count": 10,
   "id": "28bca334-2990-4f88-9477-c91f2f79975c",
   "metadata": {},
   "outputs": [
    {
     "name": "stdout",
     "output_type": "stream",
     "text": [
      "Collecting pl-core-news-md==3.8.0\n",
      "  Downloading https://github.com/explosion/spacy-models/releases/download/pl_core_news_md-3.8.0/pl_core_news_md-3.8.0-py3-none-any.whl (49.5 MB)\n",
      "\u001b[2K     \u001b[38;2;114;156;31m━━━━━━━━━━━━━━━━━━━━━━━━━━━━━━━━━━━━━━━━\u001b[0m \u001b[32m49.5/49.5 MB\u001b[0m \u001b[31m55.5 MB/s\u001b[0m eta \u001b[36m0:00:00\u001b[0m31m55.9 MB/s\u001b[0m eta \u001b[36m0:00:01\u001b[0m\n",
      "\u001b[?25hInstalling collected packages: pl-core-news-md\n",
      "Successfully installed pl-core-news-md-3.8.0\n",
      "\u001b[38;5;2m✔ Download and installation successful\u001b[0m\n",
      "You can now load the package via spacy.load('pl_core_news_md')\n"
     ]
    }
   ],
   "source": [
    "!python -m spacy download pl_core_news_md"
   ]
  },
  {
   "cell_type": "code",
   "execution_count": 3,
   "id": "36b4b136-0155-4d1a-afcb-d0c46eea3658",
   "metadata": {},
   "outputs": [],
   "source": [
    "import json\n",
    "import random\n",
    "\n",
    "import spacy\n",
    "from spacy.util import minibatch\n",
    "from spacy.training.example import Example"
   ]
  },
  {
   "cell_type": "code",
   "execution_count": 15,
   "id": "074316ef-23f8-4546-afcf-297174dbc6fe",
   "metadata": {},
   "outputs": [],
   "source": [
    "def load_spacy_data(path):\n",
    "    with open(path, \"r\", encoding=\"utf-8\") as f:\n",
    "        data = json.load(f)\n",
    "    tupled_data = []\n",
    "    for entry in data:\n",
    "        entities = [tuple(ent) for ent in entry[1][\"entities\"]]\n",
    "        tupled_data.append((entry[0], {\"entities\": entities}))\n",
    "    return tupled_data\n",
    "\n",
    "# train_data = load_spacy_data(\"../corpus/themodders_forum_monster_sentences_small/monster_small_train.json\")\n",
    "# test_data = load_spacy_data(\"../corpus/themodders_forum_monster_sentences_small/monster_small_test.json\")\n",
    "train_data = load_spacy_data(\"../corpus/themodders_forum_monster_sentences_big/monster_big_no_overlap_train.json\")\n",
    "test_data = load_spacy_data(\"../corpus/themodders_forum_monster_sentences_big/monster_big_no_overlap_test.json\")"
   ]
  },
  {
   "cell_type": "code",
   "execution_count": 16,
   "id": "fbbf4623-257e-4271-b943-47975834575c",
   "metadata": {},
   "outputs": [],
   "source": [
    "nlp = spacy.load('pl_core_news_md')\n",
    "\n",
    "if 'ner' not in nlp.pipe_names:\n",
    "    ner = nlp.add_pipe('ner')\n",
    "else:\n",
    "    ner = nlp.get_pipe('ner')\n",
    "\n",
    "# Add any labels that appear in the annotations\n",
    "for _, annotations in train_data:\n",
    "    for ent in annotations['entities']:\n",
    "        if ent[2] not in ner.labels:\n",
    "            ner.add_label(ent[2])"
   ]
  },
  {
   "cell_type": "code",
   "execution_count": 17,
   "id": "2ab3176d-a7e6-474e-8697-4a41d7bab873",
   "metadata": {},
   "outputs": [
    {
     "name": "stderr",
     "output_type": "stream",
     "text": [
      "/opt/homebrew/Caskroom/miniconda/base/envs/custom_ner/lib/python3.12/site-packages/spacy/training/iob_utils.py:149: UserWarning: [W030] Some entities could not be aligned in the text \"CONST INT GIL_ORCWARRIOR                        = ...\" with entities \"[(76, 88, 'MONSTER')]\". Use `spacy.training.offsets_to_biluo_tags(nlp.make_doc(text), entities)` to check the alignment. Misaligned entities ('-') will be ignored during training.\n",
      "  warnings.warn(\n",
      "/opt/homebrew/Caskroom/miniconda/base/envs/custom_ner/lib/python3.12/site-packages/spacy/training/iob_utils.py:149: UserWarning: [W030] Some entities could not be aligned in the text \"-Topielec spod tamy i Posłaniec Śniącego jako boss...\" with entities \"[(1, 19, 'MONSTER')]\". Use `spacy.training.offsets_to_biluo_tags(nlp.make_doc(text), entities)` to check the alignment. Misaligned entities ('-') will be ignored during training.\n",
      "  warnings.warn(\n",
      "/opt/homebrew/Caskroom/miniconda/base/envs/custom_ner/lib/python3.12/site-packages/spacy/training/iob_utils.py:149: UserWarning: [W030] Some entities could not be aligned in the text \"CONST INT GIL_ORCSLAVE                           =...\" with entities \"[(77, 80, 'MONSTER')]\". Use `spacy.training.offsets_to_biluo_tags(nlp.make_doc(text), entities)` to check the alignment. Misaligned entities ('-') will be ignored during training.\n",
      "  warnings.warn(\n",
      "/opt/homebrew/Caskroom/miniconda/base/envs/custom_ner/lib/python3.12/site-packages/spacy/training/iob_utils.py:149: UserWarning: [W030] Some entities could not be aligned in the text \"-Leże troll'a\" with entities \"[(6, 11, 'MONSTER')]\". Use `spacy.training.offsets_to_biluo_tags(nlp.make_doc(text), entities)` to check the alignment. Misaligned entities ('-') will be ignored during training.\n",
      "  warnings.warn(\n",
      "/opt/homebrew/Caskroom/miniconda/base/envs/custom_ner/lib/python3.12/site-packages/spacy/training/iob_utils.py:149: UserWarning: [W030] Some entities could not be aligned in the text \"z 150sily miecz 180dmg bija w orka(150 defa) 180 O...\" with entities \"[(30, 34, 'MONSTER')]\". Use `spacy.training.offsets_to_biluo_tags(nlp.make_doc(text), entities)` to check the alignment. Misaligned entities ('-') will be ignored during training.\n",
      "  warnings.warn(\n",
      "/opt/homebrew/Caskroom/miniconda/base/envs/custom_ner/lib/python3.12/site-packages/spacy/training/iob_utils.py:149: UserWarning: [W030] Some entities could not be aligned in the text \"@Młody Ścierwojad a mniej więcej wiesz kiedy zaczą...\" with entities \"[(1, 17, 'MONSTER')]\". Use `spacy.training.offsets_to_biluo_tags(nlp.make_doc(text), entities)` to check the alignment. Misaligned entities ('-') will be ignored during training.\n",
      "  warnings.warn(\n",
      "/opt/homebrew/Caskroom/miniconda/base/envs/custom_ner/lib/python3.12/site-packages/spacy/training/iob_utils.py:149: UserWarning: [W030] Some entities could not be aligned in the text \"CONST INT GIL_ORCSCOUT                           =...\" with entities \"[(77, 90, 'MONSTER')]\". Use `spacy.training.offsets_to_biluo_tags(nlp.make_doc(text), entities)` to check the alignment. Misaligned entities ('-') will be ignored during training.\n",
      "  warnings.warn(\n",
      "/opt/homebrew/Caskroom/miniconda/base/envs/custom_ner/lib/python3.12/site-packages/spacy/training/iob_utils.py:149: UserWarning: [W030] Some entities could not be aligned in the text \"Cytat: Zębacz#msg w 2012-08-07, 21:22\" with entities \"[(7, 13, 'MONSTER')]\". Use `spacy.training.offsets_to_biluo_tags(nlp.make_doc(text), entities)` to check the alignment. Misaligned entities ('-') will be ignored during training.\n",
      "  warnings.warn(\n",
      "/opt/homebrew/Caskroom/miniconda/base/envs/custom_ner/lib/python3.12/site-packages/spacy/training/iob_utils.py:149: UserWarning: [W030] Some entities could not be aligned in the text \"W ogóle ciekawe, że w pełni uznają słuszność Demon...\" with entities \"[(45, 50, 'MONSTER')]\". Use `spacy.training.offsets_to_biluo_tags(nlp.make_doc(text), entities)` to check the alignment. Misaligned entities ('-') will be ignored during training.\n",
      "  warnings.warn(\n",
      "/opt/homebrew/Caskroom/miniconda/base/envs/custom_ner/lib/python3.12/site-packages/spacy/training/iob_utils.py:149: UserWarning: [W030] Some entities could not be aligned in the text \"AI_Output (self ,other, DIA_Addon_Skip_Add_08_01);...\" with entities \"[(53, 60, 'MONSTER')]\". Use `spacy.training.offsets_to_biluo_tags(nlp.make_doc(text), entities)` to check the alignment. Misaligned entities ('-') will be ignored during training.\n",
      "  warnings.warn(\n",
      "/opt/homebrew/Caskroom/miniconda/base/envs/custom_ner/lib/python3.12/site-packages/spacy/training/iob_utils.py:149: UserWarning: [W030] Some entities could not be aligned in the text \"-Zębacze pod miastem\" with entities \"[(1, 8, 'MONSTER')]\". Use `spacy.training.offsets_to_biluo_tags(nlp.make_doc(text), entities)` to check the alignment. Misaligned entities ('-') will be ignored during training.\n",
      "  warnings.warn(\n",
      "/opt/homebrew/Caskroom/miniconda/base/envs/custom_ner/lib/python3.12/site-packages/spacy/training/iob_utils.py:149: UserWarning: [W030] Some entities could not be aligned in the text \"No i w sumie jak ktoś byłby ciekawy, to emulator P...\" with entities \"[(64, 69, 'MONSTER')]\". Use `spacy.training.offsets_to_biluo_tags(nlp.make_doc(text), entities)` to check the alignment. Misaligned entities ('-') will be ignored during training.\n",
      "  warnings.warn(\n",
      "/opt/homebrew/Caskroom/miniconda/base/envs/custom_ner/lib/python3.12/site-packages/spacy/training/iob_utils.py:149: UserWarning: [W030] Some entities could not be aligned in the text \"@Młody Ścierwojad dlaczego w jednym dodatków na pr...\" with entities \"[(1, 17, 'MONSTER'), (95, 101, 'MONSTER'), (103, 1...\". Use `spacy.training.offsets_to_biluo_tags(nlp.make_doc(text), entities)` to check the alignment. Misaligned entities ('-') will be ignored during training.\n",
      "  warnings.warn(\n",
      "/opt/homebrew/Caskroom/miniconda/base/envs/custom_ner/lib/python3.12/site-packages/spacy/training/iob_utils.py:149: UserWarning: [W030] Some entities could not be aligned in the text \"*Demon's Souls nie poleciłbym nikomu. Gra to taka ...\" with entities \"[(1, 6, 'MONSTER')]\". Use `spacy.training.offsets_to_biluo_tags(nlp.make_doc(text), entities)` to check the alignment. Misaligned entities ('-') will be ignored during training.\n",
      "  warnings.warn(\n",
      "/opt/homebrew/Caskroom/miniconda/base/envs/custom_ner/lib/python3.12/site-packages/spacy/training/iob_utils.py:149: UserWarning: [W030] Some entities could not be aligned in the text \"@Preriowy ścierwojad\" with entities \"[(1, 20, 'MONSTER')]\". Use `spacy.training.offsets_to_biluo_tags(nlp.make_doc(text), entities)` to check the alignment. Misaligned entities ('-') will be ignored during training.\n",
      "  warnings.warn(\n",
      "/opt/homebrew/Caskroom/miniconda/base/envs/custom_ner/lib/python3.12/site-packages/spacy/training/iob_utils.py:149: UserWarning: [W030] Some entities could not be aligned in the text \"Tak, najlepiej stworzyć jeszcze 50 działów dla mod...\" with entities \"[(275, 278, 'MONSTER')]\". Use `spacy.training.offsets_to_biluo_tags(nlp.make_doc(text), entities)` to check the alignment. Misaligned entities ('-') will be ignored during training.\n",
      "  warnings.warn(\n",
      "/opt/homebrew/Caskroom/miniconda/base/envs/custom_ner/lib/python3.12/site-packages/spacy/training/iob_utils.py:149: UserWarning: [W030] Some entities could not be aligned in the text \"Nie chcę tutaj umniejszać zasług @Młodego ścierwoj...\" with entities \"[(34, 53, 'MONSTER')]\". Use `spacy.training.offsets_to_biluo_tags(nlp.make_doc(text), entities)` to check the alignment. Misaligned entities ('-') will be ignored during training.\n",
      "  warnings.warn(\n",
      "/opt/homebrew/Caskroom/miniconda/base/envs/custom_ner/lib/python3.12/site-packages/spacy/training/iob_utils.py:149: UserWarning: [W030] Some entities could not be aligned in the text \"Cytat: Zębacz#msg w 2012-08-05, 20:42\" with entities \"[(7, 13, 'MONSTER')]\". Use `spacy.training.offsets_to_biluo_tags(nlp.make_doc(text), entities)` to check the alignment. Misaligned entities ('-') will be ignored during training.\n",
      "  warnings.warn(\n",
      "/opt/homebrew/Caskroom/miniconda/base/envs/custom_ner/lib/python3.12/site-packages/spacy/training/iob_utils.py:149: UserWarning: [W030] Some entities could not be aligned in the text \"Młody wilk= w imię Ojca, Syna i Ducha Świętego\" with entities \"[(0, 10, 'MONSTER')]\". Use `spacy.training.offsets_to_biluo_tags(nlp.make_doc(text), entities)` to check the alignment. Misaligned entities ('-') will be ignored during training.\n",
      "  warnings.warn(\n",
      "/opt/homebrew/Caskroom/miniconda/base/envs/custom_ner/lib/python3.12/site-packages/spacy/training/iob_utils.py:149: UserWarning: [W030] Some entities could not be aligned in the text \"@Młody ścierwojad\" with entities \"[(1, 17, 'MONSTER')]\". Use `spacy.training.offsets_to_biluo_tags(nlp.make_doc(text), entities)` to check the alignment. Misaligned entities ('-') will be ignored during training.\n",
      "  warnings.warn(\n",
      "/opt/homebrew/Caskroom/miniconda/base/envs/custom_ner/lib/python3.12/site-packages/spacy/training/iob_utils.py:149: UserWarning: [W030] Some entities could not be aligned in the text \"-Dodano 3 nowe pancerze (\"Wzmocniony pancerz ze sk...\" with entities \"[(54, 60, 'MONSTER'), (72, 87, 'MONSTER'), (109, 1...\". Use `spacy.training.offsets_to_biluo_tags(nlp.make_doc(text), entities)` to check the alignment. Misaligned entities ('-') will be ignored during training.\n",
      "  warnings.warn(\n"
     ]
    },
    {
     "name": "stdout",
     "output_type": "stream",
     "text": [
      "Epoch 1, Losses: {'ner': np.float32(25370.086)}\n",
      "Epoch 2, Losses: {'ner': np.float32(3212.8362)}\n",
      "Epoch 3, Losses: {'ner': np.float32(2857.9634)}\n",
      "Epoch 4, Losses: {'ner': np.float32(2436.3489)}\n",
      "Epoch 5, Losses: {'ner': np.float32(1966.661)}\n",
      "Epoch 6, Losses: {'ner': np.float32(1713.335)}\n",
      "Epoch 7, Losses: {'ner': np.float32(1461.3326)}\n",
      "Epoch 8, Losses: {'ner': np.float32(1261.7994)}\n",
      "Epoch 9, Losses: {'ner': np.float32(1136.4562)}\n",
      "Epoch 10, Losses: {'ner': np.float32(861.63806)}\n",
      "Epoch 11, Losses: {'ner': np.float32(768.39575)}\n",
      "Epoch 12, Losses: {'ner': np.float32(618.00964)}\n",
      "Epoch 13, Losses: {'ner': np.float32(520.9365)}\n",
      "Epoch 14, Losses: {'ner': np.float32(453.6163)}\n",
      "Epoch 15, Losses: {'ner': np.float32(411.7076)}\n",
      "Epoch 16, Losses: {'ner': np.float32(348.5293)}\n",
      "Epoch 17, Losses: {'ner': np.float32(290.60196)}\n",
      "Epoch 18, Losses: {'ner': np.float32(302.4146)}\n",
      "Epoch 19, Losses: {'ner': np.float32(253.97888)}\n",
      "Epoch 20, Losses: {'ner': np.float32(244.34789)}\n"
     ]
    }
   ],
   "source": [
    "other_pipes = [pipe for pipe in nlp.pipe_names if pipe != 'ner']\n",
    "\n",
    "with nlp.disable_pipes(*other_pipes):\n",
    "    optimizer = nlp.begin_training()\n",
    "\n",
    "    epochs = 20\n",
    "    for epoch in range(epochs):\n",
    "        random.shuffle(train_data)\n",
    "        losses = {}\n",
    "        batches = minibatch(train_data, size=64)\n",
    "        for batch in batches:\n",
    "            examples = []\n",
    "            for text, annotations in batch:\n",
    "                doc = nlp.make_doc(text)\n",
    "                example = Example.from_dict(doc, annotations)\n",
    "                examples.append(example)\n",
    "            nlp.update(examples, drop=0.5, losses=losses)\n",
    "        print(f'Epoch {epoch + 1}, Losses: {losses}')"
   ]
  },
  {
   "cell_type": "code",
   "execution_count": 40,
   "id": "4547276a-dce2-4461-8725-8c612fdf11a6",
   "metadata": {},
   "outputs": [],
   "source": [
    "nlp.to_disk('gmonsters_ner_0.1')"
   ]
  }
 ],
 "metadata": {
  "kernelspec": {
   "display_name": "Python 3 (ipykernel)",
   "language": "python",
   "name": "python3"
  },
  "language_info": {
   "codemirror_mode": {
    "name": "ipython",
    "version": 3
   },
   "file_extension": ".py",
   "mimetype": "text/x-python",
   "name": "python",
   "nbconvert_exporter": "python",
   "pygments_lexer": "ipython3",
   "version": "3.12.9"
  }
 },
 "nbformat": 4,
 "nbformat_minor": 5
}
