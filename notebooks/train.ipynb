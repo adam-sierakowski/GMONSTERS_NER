{
 "cells": [
  {
   "cell_type": "code",
   "execution_count": 1,
   "id": "36b4b136-0155-4d1a-afcb-d0c46eea3658",
   "metadata": {},
   "outputs": [],
   "source": [
    "import json\n",
    "import random\n",
    "import matplotlib.pyplot as plt\n",
    "import pandas as pd\n",
    "import os\n",
    "import shutil\n",
    "import spacy\n",
    "from spacy.scorer import Scorer\n",
    "from spacy.training.example import Example\n",
    "from spacy.util import minibatch"
   ]
  },
  {
   "cell_type": "code",
   "execution_count": 2,
   "id": "074316ef-23f8-4546-afcf-297174dbc6fe",
   "metadata": {},
   "outputs": [],
   "source": [
    "def load_spacy_data(path):\n",
    "    with open(path, \"r\", encoding=\"utf-8\") as f:\n",
    "        data = json.load(f)\n",
    "    tupled_data = []\n",
    "    for entry in data:\n",
    "        entities = [tuple(ent) for ent in entry[1][\"entities\"]]\n",
    "        tupled_data.append((entry[0], {\"entities\": entities}))\n",
    "    return tupled_data\n",
    "\n",
    "train_data = load_spacy_data(\"../res/data/dataset/themodders_forum_monster_sentences/monster_big_no_overlap_train.json\")\n",
    "test_data = load_spacy_data(\"../res/data/dataset/themodders_forum_monster_sentences/monster_big_no_overlap_test.json\")"
   ]
  },
  {
   "cell_type": "code",
   "execution_count": 3,
   "id": "fbbf4623-257e-4271-b943-47975834575c",
   "metadata": {},
   "outputs": [],
   "source": [
    "nlp = spacy.load('pl_core_news_md')\n",
    "\n",
    "if 'ner' not in nlp.pipe_names:\n",
    "    ner = nlp.add_pipe('ner')\n",
    "else:\n",
    "    ner = nlp.get_pipe('ner')\n",
    "\n",
    "# Add any labels that appear in the annotations\n",
    "for _, annotations in train_data:\n",
    "    for ent in annotations['entities']:\n",
    "        if ent[2] not in ner.labels:\n",
    "            ner.add_label(ent[2])"
   ]
  },
  {
   "cell_type": "code",
   "execution_count": 5,
   "id": "2ab3176d-a7e6-474e-8697-4a41d7bab873",
   "metadata": {
    "scrolled": true
   },
   "outputs": [
    {
     "name": "stderr",
     "output_type": "stream",
     "text": [
      "/opt/homebrew/Caskroom/miniconda/base/envs/custom_ner/lib/python3.12/site-packages/spacy/training/iob_utils.py:149: UserWarning: [W030] Some entities could not be aligned in the text \"CONST INT GIL_ORCSLAVE                           =...\" with entities \"[(77, 80, 'MONSTER')]\". Use `spacy.training.offsets_to_biluo_tags(nlp.make_doc(text), entities)` to check the alignment. Misaligned entities ('-') will be ignored during training.\n",
      "  warnings.warn(\n",
      "/opt/homebrew/Caskroom/miniconda/base/envs/custom_ner/lib/python3.12/site-packages/spacy/training/iob_utils.py:149: UserWarning: [W030] Some entities could not be aligned in the text \"Nie chcę tutaj umniejszać zasług @Młodego ścierwoj...\" with entities \"[(34, 53, 'MONSTER')]\". Use `spacy.training.offsets_to_biluo_tags(nlp.make_doc(text), entities)` to check the alignment. Misaligned entities ('-') will be ignored during training.\n",
      "  warnings.warn(\n",
      "/opt/homebrew/Caskroom/miniconda/base/envs/custom_ner/lib/python3.12/site-packages/spacy/training/iob_utils.py:149: UserWarning: [W030] Some entities could not be aligned in the text \"@Młody Ścierwojad a mniej więcej wiesz kiedy zaczą...\" with entities \"[(1, 17, 'MONSTER')]\". Use `spacy.training.offsets_to_biluo_tags(nlp.make_doc(text), entities)` to check the alignment. Misaligned entities ('-') will be ignored during training.\n",
      "  warnings.warn(\n",
      "/opt/homebrew/Caskroom/miniconda/base/envs/custom_ner/lib/python3.12/site-packages/spacy/training/iob_utils.py:149: UserWarning: [W030] Some entities could not be aligned in the text \"-Zębacze pod miastem\" with entities \"[(1, 8, 'MONSTER')]\". Use `spacy.training.offsets_to_biluo_tags(nlp.make_doc(text), entities)` to check the alignment. Misaligned entities ('-') will be ignored during training.\n",
      "  warnings.warn(\n",
      "/opt/homebrew/Caskroom/miniconda/base/envs/custom_ner/lib/python3.12/site-packages/spacy/training/iob_utils.py:149: UserWarning: [W030] Some entities could not be aligned in the text \"Tak, najlepiej stworzyć jeszcze 50 działów dla mod...\" with entities \"[(275, 278, 'MONSTER')]\". Use `spacy.training.offsets_to_biluo_tags(nlp.make_doc(text), entities)` to check the alignment. Misaligned entities ('-') will be ignored during training.\n",
      "  warnings.warn(\n",
      "/opt/homebrew/Caskroom/miniconda/base/envs/custom_ner/lib/python3.12/site-packages/spacy/training/iob_utils.py:149: UserWarning: [W030] Some entities could not be aligned in the text \"AI_Output (self ,other, DIA_Addon_Skip_Add_08_01);...\" with entities \"[(53, 60, 'MONSTER')]\". Use `spacy.training.offsets_to_biluo_tags(nlp.make_doc(text), entities)` to check the alignment. Misaligned entities ('-') will be ignored during training.\n",
      "  warnings.warn(\n",
      "/opt/homebrew/Caskroom/miniconda/base/envs/custom_ner/lib/python3.12/site-packages/spacy/training/iob_utils.py:149: UserWarning: [W030] Some entities could not be aligned in the text \"*Demon's Souls nie poleciłbym nikomu. Gra to taka ...\" with entities \"[(1, 6, 'MONSTER')]\". Use `spacy.training.offsets_to_biluo_tags(nlp.make_doc(text), entities)` to check the alignment. Misaligned entities ('-') will be ignored during training.\n",
      "  warnings.warn(\n",
      "/opt/homebrew/Caskroom/miniconda/base/envs/custom_ner/lib/python3.12/site-packages/spacy/training/iob_utils.py:149: UserWarning: [W030] Some entities could not be aligned in the text \"z 150sily miecz 180dmg bija w orka(150 defa) 180 O...\" with entities \"[(30, 34, 'MONSTER')]\". Use `spacy.training.offsets_to_biluo_tags(nlp.make_doc(text), entities)` to check the alignment. Misaligned entities ('-') will be ignored during training.\n",
      "  warnings.warn(\n",
      "/opt/homebrew/Caskroom/miniconda/base/envs/custom_ner/lib/python3.12/site-packages/spacy/training/iob_utils.py:149: UserWarning: [W030] Some entities could not be aligned in the text \"Młody wilk= w imię Ojca, Syna i Ducha Świętego\" with entities \"[(0, 10, 'MONSTER')]\". Use `spacy.training.offsets_to_biluo_tags(nlp.make_doc(text), entities)` to check the alignment. Misaligned entities ('-') will be ignored during training.\n",
      "  warnings.warn(\n",
      "/opt/homebrew/Caskroom/miniconda/base/envs/custom_ner/lib/python3.12/site-packages/spacy/training/iob_utils.py:149: UserWarning: [W030] Some entities could not be aligned in the text \"-Topielec spod tamy i Posłaniec Śniącego jako boss...\" with entities \"[(1, 19, 'MONSTER')]\". Use `spacy.training.offsets_to_biluo_tags(nlp.make_doc(text), entities)` to check the alignment. Misaligned entities ('-') will be ignored during training.\n",
      "  warnings.warn(\n",
      "/opt/homebrew/Caskroom/miniconda/base/envs/custom_ner/lib/python3.12/site-packages/spacy/training/iob_utils.py:149: UserWarning: [W030] Some entities could not be aligned in the text \"-Dodano 3 nowe pancerze (\"Wzmocniony pancerz ze sk...\" with entities \"[(54, 60, 'MONSTER'), (72, 87, 'MONSTER'), (109, 1...\". Use `spacy.training.offsets_to_biluo_tags(nlp.make_doc(text), entities)` to check the alignment. Misaligned entities ('-') will be ignored during training.\n",
      "  warnings.warn(\n",
      "/opt/homebrew/Caskroom/miniconda/base/envs/custom_ner/lib/python3.12/site-packages/spacy/training/iob_utils.py:149: UserWarning: [W030] Some entities could not be aligned in the text \"-Leże troll'a\" with entities \"[(6, 11, 'MONSTER')]\". Use `spacy.training.offsets_to_biluo_tags(nlp.make_doc(text), entities)` to check the alignment. Misaligned entities ('-') will be ignored during training.\n",
      "  warnings.warn(\n",
      "/opt/homebrew/Caskroom/miniconda/base/envs/custom_ner/lib/python3.12/site-packages/spacy/training/iob_utils.py:149: UserWarning: [W030] Some entities could not be aligned in the text \"CONST INT GIL_ORCSCOUT                           =...\" with entities \"[(77, 90, 'MONSTER')]\". Use `spacy.training.offsets_to_biluo_tags(nlp.make_doc(text), entities)` to check the alignment. Misaligned entities ('-') will be ignored during training.\n",
      "  warnings.warn(\n",
      "/opt/homebrew/Caskroom/miniconda/base/envs/custom_ner/lib/python3.12/site-packages/spacy/training/iob_utils.py:149: UserWarning: [W030] Some entities could not be aligned in the text \"No i w sumie jak ktoś byłby ciekawy, to emulator P...\" with entities \"[(64, 69, 'MONSTER')]\". Use `spacy.training.offsets_to_biluo_tags(nlp.make_doc(text), entities)` to check the alignment. Misaligned entities ('-') will be ignored during training.\n",
      "  warnings.warn(\n",
      "/opt/homebrew/Caskroom/miniconda/base/envs/custom_ner/lib/python3.12/site-packages/spacy/training/iob_utils.py:149: UserWarning: [W030] Some entities could not be aligned in the text \"@Preriowy ścierwojad\" with entities \"[(1, 20, 'MONSTER')]\". Use `spacy.training.offsets_to_biluo_tags(nlp.make_doc(text), entities)` to check the alignment. Misaligned entities ('-') will be ignored during training.\n",
      "  warnings.warn(\n",
      "/opt/homebrew/Caskroom/miniconda/base/envs/custom_ner/lib/python3.12/site-packages/spacy/training/iob_utils.py:149: UserWarning: [W030] Some entities could not be aligned in the text \"CONST INT GIL_ORCWARRIOR                        = ...\" with entities \"[(76, 88, 'MONSTER')]\". Use `spacy.training.offsets_to_biluo_tags(nlp.make_doc(text), entities)` to check the alignment. Misaligned entities ('-') will be ignored during training.\n",
      "  warnings.warn(\n",
      "/opt/homebrew/Caskroom/miniconda/base/envs/custom_ner/lib/python3.12/site-packages/spacy/training/iob_utils.py:149: UserWarning: [W030] Some entities could not be aligned in the text \"@Młody Ścierwojad dlaczego w jednym dodatków na pr...\" with entities \"[(1, 17, 'MONSTER'), (95, 101, 'MONSTER'), (103, 1...\". Use `spacy.training.offsets_to_biluo_tags(nlp.make_doc(text), entities)` to check the alignment. Misaligned entities ('-') will be ignored during training.\n",
      "  warnings.warn(\n",
      "/opt/homebrew/Caskroom/miniconda/base/envs/custom_ner/lib/python3.12/site-packages/spacy/training/iob_utils.py:149: UserWarning: [W030] Some entities could not be aligned in the text \"@Młody ścierwojad\" with entities \"[(1, 17, 'MONSTER')]\". Use `spacy.training.offsets_to_biluo_tags(nlp.make_doc(text), entities)` to check the alignment. Misaligned entities ('-') will be ignored during training.\n",
      "  warnings.warn(\n",
      "/opt/homebrew/Caskroom/miniconda/base/envs/custom_ner/lib/python3.12/site-packages/spacy/training/iob_utils.py:149: UserWarning: [W030] Some entities could not be aligned in the text \"Cytat: Zębacz#msg w 2012-08-07, 21:22\" with entities \"[(7, 13, 'MONSTER')]\". Use `spacy.training.offsets_to_biluo_tags(nlp.make_doc(text), entities)` to check the alignment. Misaligned entities ('-') will be ignored during training.\n",
      "  warnings.warn(\n",
      "/opt/homebrew/Caskroom/miniconda/base/envs/custom_ner/lib/python3.12/site-packages/spacy/training/iob_utils.py:149: UserWarning: [W030] Some entities could not be aligned in the text \"Cytat: Zębacz#msg w 2012-08-05, 20:42\" with entities \"[(7, 13, 'MONSTER')]\". Use `spacy.training.offsets_to_biluo_tags(nlp.make_doc(text), entities)` to check the alignment. Misaligned entities ('-') will be ignored during training.\n",
      "  warnings.warn(\n",
      "/opt/homebrew/Caskroom/miniconda/base/envs/custom_ner/lib/python3.12/site-packages/spacy/training/iob_utils.py:149: UserWarning: [W030] Some entities could not be aligned in the text \"W ogóle ciekawe, że w pełni uznają słuszność Demon...\" with entities \"[(45, 50, 'MONSTER')]\". Use `spacy.training.offsets_to_biluo_tags(nlp.make_doc(text), entities)` to check the alignment. Misaligned entities ('-') will be ignored during training.\n",
      "  warnings.warn(\n",
      "/opt/homebrew/Caskroom/miniconda/base/envs/custom_ner/lib/python3.12/site-packages/spacy/training/iob_utils.py:149: UserWarning: [W030] Some entities could not be aligned in the text \"CONST INT GIL_LURKER                              ...\" with entities \"[(78, 86, 'MONSTER')]\". Use `spacy.training.offsets_to_biluo_tags(nlp.make_doc(text), entities)` to check the alignment. Misaligned entities ('-') will be ignored during training.\n",
      "  warnings.warn(\n",
      "/opt/homebrew/Caskroom/miniconda/base/envs/custom_ner/lib/python3.12/site-packages/spacy/training/iob_utils.py:149: UserWarning: [W030] Some entities could not be aligned in the text \"-Jaszczury ogniste te obok martwego czeladnika\" with entities \"[(1, 10, 'MONSTER')]\". Use `spacy.training.offsets_to_biluo_tags(nlp.make_doc(text), entities)` to check the alignment. Misaligned entities ('-') will be ignored during training.\n",
      "  warnings.warn(\n"
     ]
    },
    {
     "name": "stdout",
     "output_type": "stream",
     "text": [
      "Epoch 10 finished training\n",
      "Epoch 20 finished training\n",
      "Epoch 30 finished training\n",
      "Epoch 40 finished training\n",
      "Epoch 50 finished training\n",
      "Epoch 60 finished training\n",
      "Saved epoch 52 with f1 = 0.9137931034482759\n"
     ]
    }
   ],
   "source": [
    "evaluation_data = []\n",
    "best_f1 = 0\n",
    "best_epoch = 0\n",
    "best_model_path = \"gmonsters_ner_best_f1\"\n",
    "\n",
    "other_pipes = [pipe for pipe in nlp.pipe_names if pipe != 'ner']\n",
    "\n",
    "with nlp.disable_pipes(*other_pipes):\n",
    "    optimizer = nlp.begin_training()\n",
    "\n",
    "    epochs = 60\n",
    "    for epoch in range(1, epochs + 1):\n",
    "        random.shuffle(train_data)\n",
    "        losses = {}\n",
    "        batches = minibatch(train_data, size=64)\n",
    "\n",
    "        # train\n",
    "        for batch in batches:\n",
    "            train_examples = []\n",
    "            for text, annotations in batch:\n",
    "                doc = nlp.make_doc(text)\n",
    "                train_example = Example.from_dict(doc, annotations)\n",
    "                train_examples.append(train_example)\n",
    "            nlp.update(train_examples, drop=0.5, losses=losses)\n",
    "\n",
    "        # test\n",
    "        test_examples = []\n",
    "        scorer = Scorer()\n",
    "        for text, annotations in test_data:\n",
    "            doc = nlp.make_doc(text)\n",
    "            test_example = Example.from_dict(doc, annotations)\n",
    "            test_example.predicted = nlp(str(test_example.predicted))\n",
    "            test_examples.append(test_example)\n",
    "        scores = scorer.score(test_examples)\n",
    "\n",
    "        epoch_data = {\n",
    "            \"epoch\": epoch,\n",
    "            \"losses\": float(losses[\"ner\"]),\n",
    "            \"Precision\": scores[\"ents_p\"],\n",
    "            \"Recall\": scores[\"ents_r\"],\n",
    "            \"F1-score\": scores[\"ents_f\"]\n",
    "        }\n",
    "        evaluation_data.append(epoch_data)\n",
    "\n",
    "        # Save best model only\n",
    "        if scores[\"ents_f\"] > best_f1:\n",
    "            best_f1 = scores[\"ents_f\"]\n",
    "            best_epoch = epoch\n",
    "            if os.path.exists(best_model_path):\n",
    "                shutil.rmtree(best_model_path)\n",
    "            nlp.to_disk(best_model_path)\n",
    "\n",
    "        if epoch % 10 == 0:\n",
    "            print(f\"Epoch {epoch} finished training\")\n",
    "\n",
    "print(f\"Saved epoch {best_epoch} with f1 = {best_f1}\")"
   ]
  },
  {
   "cell_type": "code",
   "execution_count": 6,
   "id": "9352629b-136f-4adb-8d1f-4739510ed216",
   "metadata": {},
   "outputs": [
    {
     "name": "stdout",
     "output_type": "stream",
     "text": [
      " epoch       losses  Precision   Recall  F1-score\n",
      "     1 23151.208984   0.000000 0.000000  0.000000\n",
      "     2  3203.161865   0.000000 0.000000  0.000000\n",
      "     3  2855.864258   0.000000 0.000000  0.000000\n",
      "     4  2485.601562   0.654412 0.514451  0.576052\n",
      "     5  1999.515015   0.538153 0.774566  0.635071\n",
      "     6  1699.811157   0.661836 0.791908  0.721053\n",
      "     7  1475.286011   0.566265 0.815029  0.668246\n",
      "     8  1277.702515   0.624454 0.826590  0.711443\n",
      "     9  1199.494629   0.699507 0.820809  0.755319\n",
      "    10   916.295837   0.708738 0.843931  0.770449\n",
      "    11   765.440186   0.762887 0.855491  0.806540\n",
      "    12   616.257324   0.742424 0.849711  0.792453\n",
      "    13   565.741211   0.785714 0.890173  0.834688\n",
      "    14   479.557556   0.837838 0.895954  0.865922\n",
      "    15   504.552124   0.829787 0.901734  0.864266\n",
      "    16   373.698608   0.816754 0.901734  0.857143\n",
      "    17   332.495819   0.820106 0.895954  0.856354\n",
      "    18   286.396912   0.853261 0.907514  0.879552\n",
      "    19   278.682861   0.867403 0.907514  0.887006\n",
      "    20   244.968872   0.861878 0.901734  0.881356\n",
      "    21   219.168579   0.835979 0.913295  0.872928\n",
      "    22   219.155701   0.867403 0.907514  0.887006\n",
      "    23   206.236343   0.890805 0.895954  0.893372\n",
      "    24   187.305283   0.871508 0.901734  0.886364\n",
      "    25   161.687881   0.887006 0.907514  0.897143\n",
      "    26   187.819656   0.876404 0.901734  0.888889\n",
      "    27   160.762848   0.882682 0.913295  0.897727\n",
      "    28   162.951691   0.887640 0.913295  0.900285\n",
      "    29   137.339981   0.858696 0.913295  0.885154\n",
      "    30   159.899323   0.831579 0.913295  0.870523\n",
      "    31   153.048126   0.864130 0.919075  0.890756\n",
      "    32   138.474442   0.898305 0.919075  0.908571\n",
      "    33   110.720589   0.873626 0.919075  0.895775\n",
      "    34   124.196220   0.873626 0.919075  0.895775\n",
      "    35   112.963066   0.892655 0.913295  0.902857\n",
      "    36    91.057579   0.877778 0.913295  0.895184\n",
      "    37   110.060074   0.888268 0.919075  0.903409\n",
      "    38    89.674011   0.882682 0.913295  0.897727\n",
      "    39   120.335785   0.882682 0.913295  0.897727\n",
      "    40    83.759407   0.887640 0.913295  0.900285\n",
      "    41    89.338524   0.864130 0.919075  0.890756\n",
      "    42    66.054535   0.873626 0.919075  0.895775\n",
      "    43   100.647415   0.862637 0.907514  0.884507\n",
      "    44    76.256088   0.887006 0.907514  0.897143\n",
      "    45    73.435898   0.882022 0.907514  0.894587\n",
      "    46    77.823906   0.887640 0.913295  0.900285\n",
      "    47    66.540146   0.903409 0.919075  0.911175\n",
      "    48    69.398834   0.893258 0.919075  0.905983\n",
      "    49    82.571144   0.888268 0.919075  0.903409\n",
      "    50    78.515953   0.892655 0.913295  0.902857\n",
      "    51    51.213085   0.893258 0.919075  0.905983\n",
      "    52    60.836819   0.908571 0.919075  0.913793\n",
      "    53    65.022301   0.908571 0.919075  0.913793\n",
      "    54    67.500038   0.893258 0.919075  0.905983\n",
      "    55    61.960052   0.887640 0.913295  0.900285\n",
      "    56    64.663612   0.897143 0.907514  0.902299\n",
      "    57    53.251259   0.898305 0.919075  0.908571\n",
      "    58    67.263092   0.893258 0.919075  0.905983\n",
      "    59    63.087124   0.897727 0.913295  0.905444\n",
      "    60    53.911461   0.897727 0.913295  0.905444\n"
     ]
    },
    {
     "data": {
      "text/plain": [
       "<Axes: >"
      ]
     },
     "execution_count": 6,
     "metadata": {},
     "output_type": "execute_result"
    },
    {
     "data": {
      "image/png": "[encoded data removed]",
      "text/plain": [
       "<Figure size 640x480 with 2 Axes>"
      ]
     },
     "metadata": {},
     "output_type": "display_data"
    }
   ],
   "source": [
    "df = pd.DataFrame.from_dict(evaluation_data)\n",
    "\n",
    "print(df.to_string(index=False))\n",
    "\n",
    "ax = df.plot(x='epoch', y='losses', kind='line', color='red', label='Losses')\n",
    "ax.xaxis.set_major_locator(plt.MaxNLocator(integer=True))\n",
    "ax.axvline(x=best_epoch, color='gray', linestyle='--', linewidth=1)\n",
    "ax.text(best_epoch + 0.2, ax.get_ylim()[1]*0.95, f'Best epoch: {best_epoch}', color='gray')\n",
    "df.plot(x='epoch', y=['Precision', 'Recall', 'F1-score'], kind='line', ax=ax, secondary_y=True)"
   ]
  },
  {
   "cell_type": "markdown",
   "id": "889decae-7c15-4a77-a193-d64a8479257f",
   "metadata": {},
   "source": [
    "## Final manual check"
   ]
  },
  {
   "cell_type": "code",
   "execution_count": 7,
   "id": "c02ba1d9-123c-4526-bfc5-f83ba6974d1b",
   "metadata": {},
   "outputs": [],
   "source": [
    "nlp = spacy.load(\"gmonsters_ner_best\")"
   ]
  },
  {
   "cell_type": "code",
   "execution_count": 17,
   "id": "4e56ef01-3b4c-4636-98f6-3047078f59cd",
   "metadata": {},
   "outputs": [
    {
     "name": "stdout",
     "output_type": "stream",
     "text": [
      "Text: Polne gobliny\n",
      "Entities [('Polne gobliny', 'MONSTER')]\n",
      "Text: Uciekał jakby goniło go stado baranów\n",
      "Entities [('baranów', 'MONSTER')]\n",
      "Text: Trzeba zabić paru orków szamanów\n",
      "Entities [('orków szamanów', 'MONSTER')]\n",
      "Text: Trzeba zabić paru orków-szamanów\n",
      "Entities [('orków', 'MONSTER'), ('szamanów', 'MONSTER')]\n",
      "Text: Na drodze do świątyni stoi jeden ork wojownik\n",
      "Entities [('ork wojownik', 'MONSTER')]\n",
      "Text: Z chrząszcza potrawka\n",
      "Entities [('chrząszcza', 'MONSTER')]\n",
      "Text: Z chrzaszcza potrawka\n",
      "Entities [('chrzaszcza', 'MONSTER')]\n",
      "Text: Ścierwojady – tak nazywamy te wielkie ptaszyska – należy atakować jeden po drugim.\n",
      "Entities [('Ścierwojady', 'MONSTER')]\n",
      "Text: Scierwojady – tak nazywamy te wielkie ptaszyska – należy atakować jeden po drugim.\n",
      "Entities []\n",
      "Text: Ściewrojady – tak nazywamy te wielkie ptaszyska – należy atakować jeden po drugim.\n",
      "Entities []\n",
      "Text: Skóra z orkowego psa\n",
      "Entities [('orkowego psa', 'MONSTER')]\n",
      "Text: Skóra z orkoewgo psa\n",
      "Entities [('orkoewgo psa', 'MONSTER')]\n",
      "Text: Gonił mnie jakiś straszny pies\n",
      "Entities []\n"
     ]
    }
   ],
   "source": [
    "texts = [\n",
    "    \"Polne gobliny\",  # novel monster\n",
    "    \"Uciekał jakby goniło go stado baranów\",  # exact wordform 'baranów' not present in the dataset\n",
    "    \"Trzeba zabić paru orków szamanów\",\n",
    "    \"Trzeba zabić paru orków-szamanów\",\n",
    "    \"Na drodze do świątyni stoi jeden ork wojownik\",\n",
    "    \"Z chrząszcza potrawka\",\n",
    "    \"Z chrzaszcza potrawka\",  # no diacritics (not annotated in dataset)\n",
    "    \"Ścierwojady – tak nazywamy te wielkie ptaszyska – należy atakować jeden po drugim.\",\n",
    "    \"Scierwojady – tak nazywamy te wielkie ptaszyska – należy atakować jeden po drugim.\", # no diacritics (not annotated in dataset)\n",
    "    \"Ściewrojady – tak nazywamy te wielkie ptaszyska – należy atakować jeden po drugim.\", # typo (not annotated in dataset)\n",
    "    \"Skóra z orkowego psa\",\n",
    "    \"Skóra z orkoewgo psa\",  # typo (not annotated in dataset)\n",
    "    \"Gonił mnie jakiś straszny pies\"  # negative example\n",
    "]\n",
    "\n",
    "for text in texts:\n",
    "    doc = nlp(text)\n",
    "    print(f'Text: {text}')\n",
    "    print('Entities', [(ent.text, ent.label_) for ent in doc.ents])"
   ]
  }
 ],
 "metadata": {
  "kernelspec": {
   "display_name": "Python 3 (ipykernel)",
   "language": "python",
   "name": "python3"
  },
  "language_info": {
   "codemirror_mode": {
    "name": "ipython",
    "version": 3
   },
   "file_extension": ".py",
   "mimetype": "text/x-python",
   "name": "python",
   "nbconvert_exporter": "python",
   "pygments_lexer": "ipython3",
   "version": "3.12.9"
  }
 },
 "nbformat": 4,
 "nbformat_minor": 5
}
